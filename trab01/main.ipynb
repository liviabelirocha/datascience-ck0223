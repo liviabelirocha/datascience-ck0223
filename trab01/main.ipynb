{
 "cells": [
  {
   "cell_type": "markdown",
   "id": "900d41e0",
   "metadata": {},
   "source": [
    "# Relatório sobre atributos de personagens da Marvel\n",
    "\n",
    "Aluna: Lívia Belizário Rocha <br/>\n",
    "Matrícula: 418304\n",
    "\n",
    "Clique [aqui](https://www.kaggle.com/spatika/marvel-comics-characters-stats-and-powers) para acessar o kaggle."
   ]
  },
  {
   "cell_type": "markdown",
   "id": "1a7133a9",
   "metadata": {},
   "source": [
    "Todos conhecem a Marvel, então aqui temos um dataset que traz informações\n",
    "sobre os personagens desse vasto universo.\n",
    "Nesse dataset, a maior parte das informações se refere a se um personagem possui ou não tal poder,\n",
    "então vamos analizar que tipo de informação legal podemos tirar disso."
   ]
  },
  {
   "cell_type": "markdown",
   "id": "b5dbab19",
   "metadata": {},
   "source": [
    "## Passo 1\n",
    "Importar libs"
   ]
  },
  {
   "cell_type": "code",
   "execution_count": 22,
   "id": "804d0672",
   "metadata": {},
   "outputs": [],
   "source": [
    "%matplotlib inline\n",
    "import pandas as pd\n",
    "import numpy as np\n",
    "import matplotlib.pyplot as plt\n",
    "import seaborn as sns\n",
    "\n",
    "pd.set_option('display.max_rows',None)"
   ]
  },
  {
   "cell_type": "markdown",
   "id": "8e53b5a7",
   "metadata": {},
   "source": [
    "## Passo 2\n",
    "Carregar csv"
   ]
  },
  {
   "cell_type": "code",
   "execution_count": 23,
   "id": "afcfe25f",
   "metadata": {
    "scrolled": true
   },
   "outputs": [
    {
     "name": "stdout",
     "output_type": "stream",
     "text": [
      "Linhas : 382\n"
     ]
    },
    {
     "data": {
      "text/html": [
       "<div>\n",
       "<style scoped>\n",
       "    .dataframe tbody tr th:only-of-type {\n",
       "        vertical-align: middle;\n",
       "    }\n",
       "\n",
       "    .dataframe tbody tr th {\n",
       "        vertical-align: top;\n",
       "    }\n",
       "\n",
       "    .dataframe thead th {\n",
       "        text-align: right;\n",
       "    }\n",
       "</style>\n",
       "<table border=\"1\" class=\"dataframe\">\n",
       "  <thead>\n",
       "    <tr style=\"text-align: right;\">\n",
       "      <th></th>\n",
       "      <th>Name</th>\n",
       "      <th>Alignment_x</th>\n",
       "      <th>Gender</th>\n",
       "      <th>EyeColor</th>\n",
       "      <th>Race</th>\n",
       "      <th>HairColor</th>\n",
       "      <th>Publisher</th>\n",
       "      <th>SkinColor</th>\n",
       "      <th>Height</th>\n",
       "      <th>Weight</th>\n",
       "      <th>...</th>\n",
       "      <th>Web Creation</th>\n",
       "      <th>Reality Warping</th>\n",
       "      <th>Odin Force</th>\n",
       "      <th>Symbiote Costume</th>\n",
       "      <th>Speed Force</th>\n",
       "      <th>Phoenix Force</th>\n",
       "      <th>Molecular Dissipation</th>\n",
       "      <th>Vision - Cryo</th>\n",
       "      <th>Omnipresent</th>\n",
       "      <th>Omniscient</th>\n",
       "    </tr>\n",
       "  </thead>\n",
       "  <tbody>\n",
       "    <tr>\n",
       "      <th>0</th>\n",
       "      <td>A-Bomb</td>\n",
       "      <td>good</td>\n",
       "      <td>Male</td>\n",
       "      <td>yellow</td>\n",
       "      <td>Human</td>\n",
       "      <td>No Hair</td>\n",
       "      <td>Marvel Comics</td>\n",
       "      <td>-</td>\n",
       "      <td>203.0</td>\n",
       "      <td>441.0</td>\n",
       "      <td>...</td>\n",
       "      <td>False</td>\n",
       "      <td>False</td>\n",
       "      <td>False</td>\n",
       "      <td>False</td>\n",
       "      <td>False</td>\n",
       "      <td>False</td>\n",
       "      <td>False</td>\n",
       "      <td>False</td>\n",
       "      <td>False</td>\n",
       "      <td>False</td>\n",
       "    </tr>\n",
       "    <tr>\n",
       "      <th>1</th>\n",
       "      <td>Abomination</td>\n",
       "      <td>bad</td>\n",
       "      <td>Male</td>\n",
       "      <td>green</td>\n",
       "      <td>Human / Radiation</td>\n",
       "      <td>No Hair</td>\n",
       "      <td>Marvel Comics</td>\n",
       "      <td>-</td>\n",
       "      <td>203.0</td>\n",
       "      <td>441.0</td>\n",
       "      <td>...</td>\n",
       "      <td>False</td>\n",
       "      <td>False</td>\n",
       "      <td>False</td>\n",
       "      <td>False</td>\n",
       "      <td>False</td>\n",
       "      <td>False</td>\n",
       "      <td>False</td>\n",
       "      <td>False</td>\n",
       "      <td>False</td>\n",
       "      <td>False</td>\n",
       "    </tr>\n",
       "    <tr>\n",
       "      <th>2</th>\n",
       "      <td>Abraxas</td>\n",
       "      <td>bad</td>\n",
       "      <td>Male</td>\n",
       "      <td>blue</td>\n",
       "      <td>Cosmic Entity</td>\n",
       "      <td>Black</td>\n",
       "      <td>Marvel Comics</td>\n",
       "      <td>-</td>\n",
       "      <td>-99.0</td>\n",
       "      <td>-99.0</td>\n",
       "      <td>...</td>\n",
       "      <td>False</td>\n",
       "      <td>False</td>\n",
       "      <td>False</td>\n",
       "      <td>False</td>\n",
       "      <td>False</td>\n",
       "      <td>False</td>\n",
       "      <td>False</td>\n",
       "      <td>False</td>\n",
       "      <td>False</td>\n",
       "      <td>False</td>\n",
       "    </tr>\n",
       "    <tr>\n",
       "      <th>3</th>\n",
       "      <td>Absorbing Man</td>\n",
       "      <td>bad</td>\n",
       "      <td>Male</td>\n",
       "      <td>blue</td>\n",
       "      <td>Human</td>\n",
       "      <td>No Hair</td>\n",
       "      <td>Marvel Comics</td>\n",
       "      <td>-</td>\n",
       "      <td>193.0</td>\n",
       "      <td>122.0</td>\n",
       "      <td>...</td>\n",
       "      <td>False</td>\n",
       "      <td>False</td>\n",
       "      <td>False</td>\n",
       "      <td>False</td>\n",
       "      <td>False</td>\n",
       "      <td>False</td>\n",
       "      <td>False</td>\n",
       "      <td>False</td>\n",
       "      <td>False</td>\n",
       "      <td>False</td>\n",
       "    </tr>\n",
       "    <tr>\n",
       "      <th>4</th>\n",
       "      <td>Agent 13</td>\n",
       "      <td>good</td>\n",
       "      <td>Female</td>\n",
       "      <td>blue</td>\n",
       "      <td>-</td>\n",
       "      <td>Blond</td>\n",
       "      <td>Marvel Comics</td>\n",
       "      <td>-</td>\n",
       "      <td>173.0</td>\n",
       "      <td>61.0</td>\n",
       "      <td>...</td>\n",
       "      <td>NaN</td>\n",
       "      <td>NaN</td>\n",
       "      <td>NaN</td>\n",
       "      <td>NaN</td>\n",
       "      <td>NaN</td>\n",
       "      <td>NaN</td>\n",
       "      <td>NaN</td>\n",
       "      <td>NaN</td>\n",
       "      <td>NaN</td>\n",
       "      <td>NaN</td>\n",
       "    </tr>\n",
       "  </tbody>\n",
       "</table>\n",
       "<p>5 rows × 184 columns</p>\n",
       "</div>"
      ],
      "text/plain": [
       "            Name Alignment_x  Gender EyeColor               Race HairColor  \\\n",
       "0         A-Bomb        good    Male   yellow              Human   No Hair   \n",
       "1    Abomination         bad    Male    green  Human / Radiation   No Hair   \n",
       "2        Abraxas         bad    Male     blue      Cosmic Entity     Black   \n",
       "3  Absorbing Man         bad    Male     blue              Human   No Hair   \n",
       "4       Agent 13        good  Female     blue                  -     Blond   \n",
       "\n",
       "       Publisher SkinColor  Height  Weight  ...  Web Creation  \\\n",
       "0  Marvel Comics         -   203.0   441.0  ...         False   \n",
       "1  Marvel Comics         -   203.0   441.0  ...         False   \n",
       "2  Marvel Comics         -   -99.0   -99.0  ...         False   \n",
       "3  Marvel Comics         -   193.0   122.0  ...         False   \n",
       "4  Marvel Comics         -   173.0    61.0  ...           NaN   \n",
       "\n",
       "   Reality Warping  Odin Force  Symbiote Costume  Speed Force  Phoenix Force  \\\n",
       "0            False       False             False        False          False   \n",
       "1            False       False             False        False          False   \n",
       "2            False       False             False        False          False   \n",
       "3            False       False             False        False          False   \n",
       "4              NaN         NaN               NaN          NaN            NaN   \n",
       "\n",
       "   Molecular Dissipation Vision - Cryo Omnipresent Omniscient  \n",
       "0                  False         False       False      False  \n",
       "1                  False         False       False      False  \n",
       "2                  False         False       False      False  \n",
       "3                  False         False       False      False  \n",
       "4                    NaN           NaN         NaN        NaN  \n",
       "\n",
       "[5 rows x 184 columns]"
      ]
     },
     "execution_count": 23,
     "metadata": {},
     "output_type": "execute_result"
    }
   ],
   "source": [
    "data = pd.read_csv('csv/marvel_demo_stats_powers.csv')\n",
    "\n",
    "# Remoção de colunas não úteis para a análise dos dados\n",
    "data = data.drop(columns=[\"Unnamed: 0\", \"ID\"])\n",
    "\n",
    "print(f'Linhas : {data.shape[0]}')\n",
    "data.head()"
   ]
  },
  {
   "cell_type": "markdown",
   "id": "18bd5fff",
   "metadata": {},
   "source": [
    "## Passo 3\n",
    "Organizar e limpar o dataset"
   ]
  },
  {
   "cell_type": "code",
   "execution_count": 24,
   "id": "0e9d9290",
   "metadata": {},
   "outputs": [
    {
     "data": {
      "image/png": "[encoded data removed]",
      "text/plain": [
       "<Figure size 1440x864 with 2 Axes>"
      ]
     },
     "metadata": {
      "needs_background": "light"
     },
     "output_type": "display_data"
    }
   ],
   "source": [
    "plt.figure(figsize=(20,12))\n",
    "plt.title(\"Dados nulos\", size=30)\n",
    "sns.heatmap(data.isna());"
   ]
  },
  {
   "cell_type": "code",
   "execution_count": 25,
   "id": "f5ec3c05",
   "metadata": {},
   "outputs": [
    {
     "name": "stdout",
     "output_type": "stream",
     "text": [
      "Linhas : 298\n"
     ]
    }
   ],
   "source": [
    "data = data.dropna()\n",
    "print(f'Linhas : {data.shape[0]}')"
   ]
  },
  {
   "cell_type": "markdown",
   "id": "84987c6e",
   "metadata": {},
   "source": [
    "Removendo os dados nulos, ficamos com um total de 298 linhas.\n",
    "\n",
    "Agora vamos analizar algumas colunas"
   ]
  },
  {
   "cell_type": "code",
   "execution_count": 26,
   "id": "d1ec4ddd",
   "metadata": {
    "scrolled": true
   },
   "outputs": [
    {
     "name": "stdout",
     "output_type": "stream",
     "text": [
      "<class 'pandas.core.frame.DataFrame'>\n",
      "Int64Index: 298 entries, 0 to 381\n",
      "Data columns (total 184 columns):\n",
      " #    Column                        Dtype  \n",
      "---   ------                        -----  \n",
      " 0    Name                          object \n",
      " 1    Alignment_x                   object \n",
      " 2    Gender                        object \n",
      " 3    EyeColor                      object \n",
      " 4    Race                          object \n",
      " 5    HairColor                     object \n",
      " 6    Publisher                     object \n",
      " 7    SkinColor                     object \n",
      " 8    Height                        float64\n",
      " 9    Weight                        float64\n",
      " 10   Intelligence_x                float64\n",
      " 11   Strength                      float64\n",
      " 12   Speed                         float64\n",
      " 13   Durability_x                  float64\n",
      " 14   Power                         float64\n",
      " 15   Combat                        float64\n",
      " 16   Total                         float64\n",
      " 17   Agility                       object \n",
      " 18   Accelerated Healing           object \n",
      " 19   Lantern Power Ring            object \n",
      " 20   Dimensional Awareness         object \n",
      " 21   Cold Resistance               object \n",
      " 22   Durability_y                  object \n",
      " 23   Stealth                       object \n",
      " 24   Energy Absorption             object \n",
      " 25   Flight                        object \n",
      " 26   Danger Sense                  object \n",
      " 27   Underwater breathing          object \n",
      " 28   Marksmanship                  object \n",
      " 29   Weapons Master                object \n",
      " 30   Power Augmentation            object \n",
      " 31   Animal Attributes             object \n",
      " 32   Longevity                     object \n",
      " 33   Intelligence_y                object \n",
      " 34   Super Strength                object \n",
      " 35   Cryokinesis                   object \n",
      " 36   Telepathy                     object \n",
      " 37   Energy Armor                  object \n",
      " 38   Energy Blasts                 object \n",
      " 39   Duplication                   object \n",
      " 40   Size Changing                 object \n",
      " 41   Density Control               object \n",
      " 42   Stamina                       object \n",
      " 43   Astral Travel                 object \n",
      " 44   Audio Control                 object \n",
      " 45   Dexterity                     object \n",
      " 46   Omnitrix                      object \n",
      " 47   Super Speed                   object \n",
      " 48   Possession                    object \n",
      " 49   Animal Oriented Powers        object \n",
      " 50   Weapon-based Powers           object \n",
      " 51   Electrokinesis                object \n",
      " 52   Darkforce Manipulation        object \n",
      " 53   Death Touch                   object \n",
      " 54   Teleportation                 object \n",
      " 55   Enhanced Senses               object \n",
      " 56   Telekinesis                   object \n",
      " 57   Energy Beams                  object \n",
      " 58   Magic                         object \n",
      " 59   Hyperkinesis                  object \n",
      " 60   Jump                          object \n",
      " 61   Clairvoyance                  object \n",
      " 62   Dimensional Travel            object \n",
      " 63   Power Sense                   object \n",
      " 64   Shapeshifting                 object \n",
      " 65   Peak Human Condition          object \n",
      " 66   Immortality                   object \n",
      " 67   Camouflage                    object \n",
      " 68   Element Control               object \n",
      " 69   Phasing                       object \n",
      " 70   Astral Projection             object \n",
      " 71   Electrical Transport          object \n",
      " 72   Fire Control                  object \n",
      " 73   Projection                    object \n",
      " 74   Summoning                     object \n",
      " 75   Enhanced Memory               object \n",
      " 76   Reflexes                      object \n",
      " 77   Invulnerability               object \n",
      " 78   Energy Constructs             object \n",
      " 79   Force Fields                  object \n",
      " 80   Self-Sustenance               object \n",
      " 81   Anti-Gravity                  object \n",
      " 82   Empathy                       object \n",
      " 83   Power Nullifier               object \n",
      " 84   Radiation Control             object \n",
      " 85   Psionic Powers                object \n",
      " 86   Elasticity                    object \n",
      " 87   Substance Secretion           object \n",
      " 88   Elemental Transmogrification  object \n",
      " 89   Technopath/Cyberpath          object \n",
      " 90   Photographic Reflexes         object \n",
      " 91   Seismic Power                 object \n",
      " 92   Animation                     object \n",
      " 93   Precognition                  object \n",
      " 94   Mind Control                  object \n",
      " 95   Fire Resistance               object \n",
      " 96   Power Absorption              object \n",
      " 97   Enhanced Hearing              object \n",
      " 98   Nova Force                    object \n",
      " 99   Insanity                      object \n",
      " 100  Hypnokinesis                  object \n",
      " 101  Animal Control                object \n",
      " 102  Natural Armor                 object \n",
      " 103  Intangibility                 object \n",
      " 104  Enhanced Sight                object \n",
      " 105  Molecular Manipulation        object \n",
      " 106  Heat Generation               object \n",
      " 107  Adaptation                    object \n",
      " 108  Gliding                       object \n",
      " 109  Power Suit                    object \n",
      " 110  Mind Blast                    object \n",
      " 111  Probability Manipulation      object \n",
      " 112  Gravity Control               object \n",
      " 113  Regeneration                  object \n",
      " 114  Light Control                 object \n",
      " 115  Echolocation                  object \n",
      " 116  Levitation                    object \n",
      " 117  Toxin and Disease Control     object \n",
      " 118  Banish                        object \n",
      " 119  Energy Manipulation           object \n",
      " 120  Heat Resistance               object \n",
      " 121  Natural Weapons               object \n",
      " 122  Time Travel                   object \n",
      " 123  Enhanced Smell                object \n",
      " 124  Illusions                     object \n",
      " 125  Thirstokinesis                object \n",
      " 126  Hair Manipulation             object \n",
      " 127  Illumination                  object \n",
      " 128  Omnipotent                    object \n",
      " 129  Cloaking                      object \n",
      " 130  Changing Armor                object \n",
      " 131  Power Cosmic                  object \n",
      " 132  Biokinesis                    object \n",
      " 133  Water Control                 object \n",
      " 134  Radiation Immunity            object \n",
      " 135  Vision - Telescopic           object \n",
      " 136  Toxin and Disease Resistance  object \n",
      " 137  Spatial Awareness             object \n",
      " 138  Energy Resistance             object \n",
      " 139  Telepathy Resistance          object \n",
      " 140  Molecular Combustion          object \n",
      " 141  Omnilingualism                object \n",
      " 142  Portal Creation               object \n",
      " 143  Magnetism                     object \n",
      " 144  Mind Control Resistance       object \n",
      " 145  Plant Control                 object \n",
      " 146  Sonar                         object \n",
      " 147  Sonic Scream                  object \n",
      " 148  Time Manipulation             object \n",
      " 149  Enhanced Touch                object \n",
      " 150  Magic Resistance              object \n",
      " 151  Invisibility                  object \n",
      " 152  Sub-Mariner                   object \n",
      " 153  Radiation Absorption          object \n",
      " 154  Intuitive aptitude            object \n",
      " 155  Vision - Microscopic          object \n",
      " 156  Melting                       object \n",
      " 157  Wind Control                  object \n",
      " 158  Super Breath                  object \n",
      " 159  Wallcrawling                  object \n",
      " 160  Vision - Night                object \n",
      " 161  Vision - Infrared             object \n",
      " 162  Grim Reaping                  object \n",
      " 163  Matter Absorption             object \n",
      " 164  The Force                     object \n",
      " 165  Resurrection                  object \n",
      " 166  Terrakinesis                  object \n",
      " 167  Vision - Heat                 object \n",
      " 168  Vitakinesis                   object \n",
      " 169  Radar Sense                   object \n",
      " 170  Qwardian Power Ring           object \n",
      " 171  Weather Control               object \n",
      " 172  Vision - X-Ray                object \n",
      " 173  Vision - Thermal              object \n",
      " 174  Web Creation                  object \n",
      " 175  Reality Warping               object \n",
      " 176  Odin Force                    object \n",
      " 177  Symbiote Costume              object \n",
      " 178  Speed Force                   object \n",
      " 179  Phoenix Force                 object \n",
      " 180  Molecular Dissipation         object \n",
      " 181  Vision - Cryo                 object \n",
      " 182  Omnipresent                   object \n",
      " 183  Omniscient                    object \n",
      "dtypes: float64(9), object(175)\n",
      "memory usage: 430.7+ KB\n"
     ]
    }
   ],
   "source": [
    "data.info(verbose=True)"
   ]
  },
  {
   "cell_type": "markdown",
   "id": "2888b8dc",
   "metadata": {},
   "source": [
    "Dá pra notar que boa parte dessas colunas, tanto pelo nome quanto olhando na tabela, são valores booleanos, mas quando pegamos as informações delas, vemos que são tratadas como `object`, mais especificamente, as colunas Agility (17) até Omniscient (183)."
   ]
  },
  {
   "cell_type": "code",
   "execution_count": 27,
   "id": "41f98caa",
   "metadata": {},
   "outputs": [
    {
     "name": "stdout",
     "output_type": "stream",
     "text": [
      "<class 'pandas.core.frame.DataFrame'>\n",
      "Int64Index: 298 entries, 0 to 381\n",
      "Data columns (total 184 columns):\n",
      " #    Column                        Dtype  \n",
      "---   ------                        -----  \n",
      " 0    Name                          object \n",
      " 1    Alignment_x                   object \n",
      " 2    Gender                        object \n",
      " 3    EyeColor                      object \n",
      " 4    Race                          object \n",
      " 5    HairColor                     object \n",
      " 6    Publisher                     object \n",
      " 7    SkinColor                     object \n",
      " 8    Height                        float64\n",
      " 9    Weight                        float64\n",
      " 10   Intelligence_x                float64\n",
      " 11   Strength                      float64\n",
      " 12   Speed                         float64\n",
      " 13   Durability_x                  float64\n",
      " 14   Power                         float64\n",
      " 15   Combat                        float64\n",
      " 16   Total                         float64\n",
      " 17   Agility                       bool   \n",
      " 18   Accelerated Healing           bool   \n",
      " 19   Lantern Power Ring            bool   \n",
      " 20   Dimensional Awareness         bool   \n",
      " 21   Cold Resistance               bool   \n",
      " 22   Durability_y                  bool   \n",
      " 23   Stealth                       bool   \n",
      " 24   Energy Absorption             bool   \n",
      " 25   Flight                        bool   \n",
      " 26   Danger Sense                  bool   \n",
      " 27   Underwater breathing          bool   \n",
      " 28   Marksmanship                  bool   \n",
      " 29   Weapons Master                bool   \n",
      " 30   Power Augmentation            bool   \n",
      " 31   Animal Attributes             bool   \n",
      " 32   Longevity                     bool   \n",
      " 33   Intelligence_y                bool   \n",
      " 34   Super Strength                bool   \n",
      " 35   Cryokinesis                   bool   \n",
      " 36   Telepathy                     bool   \n",
      " 37   Energy Armor                  bool   \n",
      " 38   Energy Blasts                 bool   \n",
      " 39   Duplication                   bool   \n",
      " 40   Size Changing                 bool   \n",
      " 41   Density Control               bool   \n",
      " 42   Stamina                       bool   \n",
      " 43   Astral Travel                 bool   \n",
      " 44   Audio Control                 bool   \n",
      " 45   Dexterity                     bool   \n",
      " 46   Omnitrix                      bool   \n",
      " 47   Super Speed                   bool   \n",
      " 48   Possession                    bool   \n",
      " 49   Animal Oriented Powers        bool   \n",
      " 50   Weapon-based Powers           bool   \n",
      " 51   Electrokinesis                bool   \n",
      " 52   Darkforce Manipulation        bool   \n",
      " 53   Death Touch                   bool   \n",
      " 54   Teleportation                 bool   \n",
      " 55   Enhanced Senses               bool   \n",
      " 56   Telekinesis                   bool   \n",
      " 57   Energy Beams                  bool   \n",
      " 58   Magic                         bool   \n",
      " 59   Hyperkinesis                  bool   \n",
      " 60   Jump                          bool   \n",
      " 61   Clairvoyance                  bool   \n",
      " 62   Dimensional Travel            bool   \n",
      " 63   Power Sense                   bool   \n",
      " 64   Shapeshifting                 bool   \n",
      " 65   Peak Human Condition          bool   \n",
      " 66   Immortality                   bool   \n",
      " 67   Camouflage                    bool   \n",
      " 68   Element Control               bool   \n",
      " 69   Phasing                       bool   \n",
      " 70   Astral Projection             bool   \n",
      " 71   Electrical Transport          bool   \n",
      " 72   Fire Control                  bool   \n",
      " 73   Projection                    bool   \n",
      " 74   Summoning                     bool   \n",
      " 75   Enhanced Memory               bool   \n",
      " 76   Reflexes                      bool   \n",
      " 77   Invulnerability               bool   \n",
      " 78   Energy Constructs             bool   \n",
      " 79   Force Fields                  bool   \n",
      " 80   Self-Sustenance               bool   \n",
      " 81   Anti-Gravity                  bool   \n",
      " 82   Empathy                       bool   \n",
      " 83   Power Nullifier               bool   \n",
      " 84   Radiation Control             bool   \n",
      " 85   Psionic Powers                bool   \n",
      " 86   Elasticity                    bool   \n",
      " 87   Substance Secretion           bool   \n",
      " 88   Elemental Transmogrification  bool   \n",
      " 89   Technopath/Cyberpath          bool   \n",
      " 90   Photographic Reflexes         bool   \n",
      " 91   Seismic Power                 bool   \n",
      " 92   Animation                     bool   \n",
      " 93   Precognition                  bool   \n",
      " 94   Mind Control                  bool   \n",
      " 95   Fire Resistance               bool   \n",
      " 96   Power Absorption              bool   \n",
      " 97   Enhanced Hearing              bool   \n",
      " 98   Nova Force                    bool   \n",
      " 99   Insanity                      bool   \n",
      " 100  Hypnokinesis                  bool   \n",
      " 101  Animal Control                bool   \n",
      " 102  Natural Armor                 bool   \n",
      " 103  Intangibility                 bool   \n",
      " 104  Enhanced Sight                bool   \n",
      " 105  Molecular Manipulation        bool   \n",
      " 106  Heat Generation               bool   \n",
      " 107  Adaptation                    bool   \n",
      " 108  Gliding                       bool   \n",
      " 109  Power Suit                    bool   \n",
      " 110  Mind Blast                    bool   \n",
      " 111  Probability Manipulation      bool   \n",
      " 112  Gravity Control               bool   \n",
      " 113  Regeneration                  bool   \n",
      " 114  Light Control                 bool   \n",
      " 115  Echolocation                  bool   \n",
      " 116  Levitation                    bool   \n",
      " 117  Toxin and Disease Control     bool   \n",
      " 118  Banish                        bool   \n",
      " 119  Energy Manipulation           bool   \n",
      " 120  Heat Resistance               bool   \n",
      " 121  Natural Weapons               bool   \n",
      " 122  Time Travel                   bool   \n",
      " 123  Enhanced Smell                bool   \n",
      " 124  Illusions                     bool   \n",
      " 125  Thirstokinesis                bool   \n",
      " 126  Hair Manipulation             bool   \n",
      " 127  Illumination                  bool   \n",
      " 128  Omnipotent                    bool   \n",
      " 129  Cloaking                      bool   \n",
      " 130  Changing Armor                bool   \n",
      " 131  Power Cosmic                  bool   \n",
      " 132  Biokinesis                    bool   \n",
      " 133  Water Control                 bool   \n",
      " 134  Radiation Immunity            bool   \n",
      " 135  Vision - Telescopic           bool   \n",
      " 136  Toxin and Disease Resistance  bool   \n",
      " 137  Spatial Awareness             bool   \n",
      " 138  Energy Resistance             bool   \n",
      " 139  Telepathy Resistance          bool   \n",
      " 140  Molecular Combustion          bool   \n",
      " 141  Omnilingualism                bool   \n",
      " 142  Portal Creation               bool   \n",
      " 143  Magnetism                     bool   \n",
      " 144  Mind Control Resistance       bool   \n",
      " 145  Plant Control                 bool   \n",
      " 146  Sonar                         bool   \n",
      " 147  Sonic Scream                  bool   \n",
      " 148  Time Manipulation             bool   \n",
      " 149  Enhanced Touch                bool   \n",
      " 150  Magic Resistance              bool   \n",
      " 151  Invisibility                  bool   \n",
      " 152  Sub-Mariner                   bool   \n",
      " 153  Radiation Absorption          bool   \n",
      " 154  Intuitive aptitude            bool   \n",
      " 155  Vision - Microscopic          bool   \n",
      " 156  Melting                       bool   \n",
      " 157  Wind Control                  bool   \n",
      " 158  Super Breath                  bool   \n",
      " 159  Wallcrawling                  bool   \n",
      " 160  Vision - Night                bool   \n",
      " 161  Vision - Infrared             bool   \n",
      " 162  Grim Reaping                  bool   \n",
      " 163  Matter Absorption             bool   \n",
      " 164  The Force                     bool   \n",
      " 165  Resurrection                  bool   \n",
      " 166  Terrakinesis                  bool   \n",
      " 167  Vision - Heat                 bool   \n",
      " 168  Vitakinesis                   bool   \n",
      " 169  Radar Sense                   bool   \n",
      " 170  Qwardian Power Ring           bool   \n",
      " 171  Weather Control               bool   \n",
      " 172  Vision - X-Ray                bool   \n",
      " 173  Vision - Thermal              bool   \n",
      " 174  Web Creation                  bool   \n",
      " 175  Reality Warping               bool   \n",
      " 176  Odin Force                    bool   \n",
      " 177  Symbiote Costume              bool   \n",
      " 178  Speed Force                   bool   \n",
      " 179  Phoenix Force                 bool   \n",
      " 180  Molecular Dissipation         bool   \n",
      " 181  Vision - Cryo                 bool   \n",
      " 182  Omnipresent                   bool   \n",
      " 183  Omniscient                    bool   \n",
      "dtypes: bool(167), float64(9), object(8)\n",
      "memory usage: 90.5+ KB\n"
     ]
    }
   ],
   "source": [
    "booleans = np.arange(17, 184, 1)\n",
    "\n",
    "data.iloc[:, booleans] = data.iloc[:, booleans].astype('bool')\n",
    "\n",
    "data.info(verbose=True)"
   ]
  },
  {
   "cell_type": "markdown",
   "id": "4d1b1496",
   "metadata": {},
   "source": [
    "Agora podemos plotar algumas informações interessantes, como quantos personagens cada habilidade tem."
   ]
  },
  {
   "cell_type": "code",
   "execution_count": 28,
   "id": "67ec040e",
   "metadata": {
    "scrolled": true
   },
   "outputs": [
    {
     "data": {
      "text/plain": [
       "Super Strength                  176\n",
       "Stamina                         131\n",
       "Durability_y                    130\n",
       "Super Speed                     117\n",
       "Agility                         100\n",
       "Flight                           98\n",
       "Reflexes                         83\n",
       "Energy Blasts                    81\n",
       "Accelerated Healing              79\n",
       "Telepathy                        49\n",
       "Longevity                        48\n",
       "Intelligence_y                   47\n",
       "Invulnerability                  45\n",
       "Enhanced Senses                  39\n",
       "Force Fields                     38\n",
       "Energy Absorption                36\n",
       "Marksmanship                     36\n",
       "Psionic Powers                   35\n",
       "Natural Weapons                  34\n",
       "Teleportation                    33\n",
       "Stealth                          32\n",
       "Telekinesis                      31\n",
       "Immortality                      29\n",
       "Toxin and Disease Resistance     29\n",
       "Shapeshifting                    28\n",
       "Weapon-based Powers              28\n",
       "Size Changing                    26\n",
       "Molecular Manipulation           25\n",
       "Animal Oriented Powers           25\n",
       "Energy Manipulation              24\n",
       "Heat Resistance                  24\n",
       "Weapons Master                   24\n",
       "Wallcrawling                     24\n",
       "Jump                             22\n",
       "Energy Beams                     21\n",
       "Enhanced Hearing                 21\n",
       "Telepathy Resistance             20\n",
       "Magic                            20\n",
       "Cold Resistance                  20\n",
       "Vision - Night                   18\n",
       "Illusions                        18\n",
       "Vision - Telescopic              18\n",
       "Fire Control                     16\n",
       "Astral Projection                15\n",
       "Self-Sustenance                  14\n",
       "Levitation                       14\n",
       "Natural Armor                    14\n",
       "Danger Sense                     14\n",
       "Animal Attributes                14\n",
       "Mind Control                     13\n",
       "Regeneration                     12\n",
       "Dimensional Awareness            12\n",
       "Heat Generation                  12\n",
       "Camouflage                       11\n",
       "Power Suit                       11\n",
       "Peak Human Condition             10\n",
       "Time Travel                      10\n",
       "Vision - Thermal                 10\n",
       "Fire Resistance                   9\n",
       "Enhanced Smell                    9\n",
       "Intangibility                     9\n",
       "Gravity Control                   9\n",
       "Mind Blast                        9\n",
       "Cryokinesis                       9\n",
       "Web Creation                      9\n",
       "Vision - Infrared                 9\n",
       "Dimensional Travel                9\n",
       "Light Control                     8\n",
       "Phasing                           8\n",
       "Substance Secretion               8\n",
       "Super Breath                      7\n",
       "Electrokinesis                    7\n",
       "Underwater breathing              7\n",
       "Technopath/Cyberpath              7\n",
       "Radiation Immunity                7\n",
       "Enhanced Memory                   7\n",
       "Empathy                           7\n",
       "Magnetism                         6\n",
       "Precognition                      6\n",
       "Water Control                     6\n",
       "Enhanced Sight                    6\n",
       "Resurrection                      6\n",
       "Energy Constructs                 6\n",
       "Reality Warping                   5\n",
       "Symbiote Costume                  5\n",
       "Radiation Absorption              5\n",
       "Vision - X-Ray                    5\n",
       "Toxin and Disease Control         5\n",
       "Invisibility                      5\n",
       "Mind Control Resistance           5\n",
       "Power Cosmic                      5\n",
       "Omnilingualism                    5\n",
       "Hypnokinesis                      5\n",
       "Gliding                           5\n",
       "Element Control                   5\n",
       "Power Augmentation                5\n",
       "Duplication                       5\n",
       "Audio Control                     5\n",
       "Power Absorption                  5\n",
       "Energy Armor                      4\n",
       "Density Control                   4\n",
       "Possession                        4\n",
       "Darkforce Manipulation            4\n",
       "Magic Resistance                  4\n",
       "Time Manipulation                 4\n",
       "Probability Manipulation          4\n",
       "Portal Creation                   4\n",
       "Sonic Scream                      4\n",
       "Enhanced Touch                    3\n",
       "Insanity                          3\n",
       "Sub-Mariner                       3\n",
       "Cloaking                          3\n",
       "Vision - Heat                     3\n",
       "Astral Travel                     3\n",
       "Elasticity                        3\n",
       "Summoning                         3\n",
       "Elemental Transmogrification      3\n",
       "Power Sense                       3\n",
       "Dexterity                         3\n",
       "Energy Resistance                 3\n",
       "Vision - Microscopic              2\n",
       "Animation                         2\n",
       "Seismic Power                     2\n",
       "Wind Control                      2\n",
       "Nova Force                        2\n",
       "Matter Absorption                 2\n",
       "Vitakinesis                       2\n",
       "Weather Control                   2\n",
       "Grim Reaping                      2\n",
       "Animal Control                    2\n",
       "Sonar                             2\n",
       "Projection                        2\n",
       "Plant Control                     2\n",
       "Illumination                      2\n",
       "Omnipotent                        2\n",
       "Molecular Combustion              2\n",
       "Power Nullifier                   2\n",
       "Radiation Control                 2\n",
       "Echolocation                      1\n",
       "Odin Force                        1\n",
       "Radar Sense                       1\n",
       "Terrakinesis                      1\n",
       "Biokinesis                        1\n",
       "Anti-Gravity                      1\n",
       "Electrical Transport              1\n",
       "Photographic Reflexes             1\n",
       "Banish                            1\n",
       "Phoenix Force                     1\n",
       "Hair Manipulation                 1\n",
       "Clairvoyance                      1\n",
       "Death Touch                       1\n",
       "Vision - Cryo                     0\n",
       "Lantern Power Ring                0\n",
       "Speed Force                       0\n",
       "Omnipresent                       0\n",
       "Molecular Dissipation             0\n",
       "Adaptation                        0\n",
       "Thirstokinesis                    0\n",
       "Intuitive aptitude                0\n",
       "Qwardian Power Ring               0\n",
       "The Force                         0\n",
       "Omnitrix                          0\n",
       "Melting                           0\n",
       "Hyperkinesis                      0\n",
       "Spatial Awareness                 0\n",
       "Changing Armor                    0\n",
       "Omniscient                        0\n",
       "dtype: int64"
      ]
     },
     "execution_count": 28,
     "metadata": {},
     "output_type": "execute_result"
    }
   ],
   "source": [
    "number_power = data.iloc[:, booleans].sum().sort_values(ascending=False)\n",
    "number_power"
   ]
  },
  {
   "cell_type": "markdown",
   "id": "10cb5168",
   "metadata": {},
   "source": [
    "Vemos que alguns poderes, nenhum personagem possui, então podemos remover essas colunas do dataset."
   ]
  },
  {
   "cell_type": "code",
   "execution_count": 29,
   "id": "b354ce03",
   "metadata": {},
   "outputs": [
    {
     "data": {
      "text/plain": [
       "Super Strength                  176\n",
       "Stamina                         131\n",
       "Durability_y                    130\n",
       "Super Speed                     117\n",
       "Agility                         100\n",
       "Flight                           98\n",
       "Reflexes                         83\n",
       "Energy Blasts                    81\n",
       "Accelerated Healing              79\n",
       "Telepathy                        49\n",
       "Longevity                        48\n",
       "Intelligence_y                   47\n",
       "Invulnerability                  45\n",
       "Enhanced Senses                  39\n",
       "Force Fields                     38\n",
       "Marksmanship                     36\n",
       "Energy Absorption                36\n",
       "Psionic Powers                   35\n",
       "Natural Weapons                  34\n",
       "Teleportation                    33\n",
       "Stealth                          32\n",
       "Telekinesis                      31\n",
       "Immortality                      29\n",
       "Toxin and Disease Resistance     29\n",
       "Shapeshifting                    28\n",
       "Weapon-based Powers              28\n",
       "Size Changing                    26\n",
       "Animal Oriented Powers           25\n",
       "Molecular Manipulation           25\n",
       "Energy Manipulation              24\n",
       "Wallcrawling                     24\n",
       "Heat Resistance                  24\n",
       "Weapons Master                   24\n",
       "Jump                             22\n",
       "Enhanced Hearing                 21\n",
       "Energy Beams                     21\n",
       "Telepathy Resistance             20\n",
       "Magic                            20\n",
       "Cold Resistance                  20\n",
       "Illusions                        18\n",
       "Vision - Telescopic              18\n",
       "Vision - Night                   18\n",
       "Fire Control                     16\n",
       "Astral Projection                15\n",
       "Natural Armor                    14\n",
       "Levitation                       14\n",
       "Animal Attributes                14\n",
       "Self-Sustenance                  14\n",
       "Danger Sense                     14\n",
       "Mind Control                     13\n",
       "Heat Generation                  12\n",
       "Regeneration                     12\n",
       "Dimensional Awareness            12\n",
       "Power Suit                       11\n",
       "Camouflage                       11\n",
       "Peak Human Condition             10\n",
       "Vision - Thermal                 10\n",
       "Time Travel                      10\n",
       "Mind Blast                        9\n",
       "Gravity Control                   9\n",
       "Intangibility                     9\n",
       "Enhanced Smell                    9\n",
       "Vision - Infrared                 9\n",
       "Web Creation                      9\n",
       "Fire Resistance                   9\n",
       "Dimensional Travel                9\n",
       "Cryokinesis                       9\n",
       "Phasing                           8\n",
       "Light Control                     8\n",
       "Substance Secretion               8\n",
       "Technopath/Cyberpath              7\n",
       "Empathy                           7\n",
       "Electrokinesis                    7\n",
       "Enhanced Memory                   7\n",
       "Super Breath                      7\n",
       "Underwater breathing              7\n",
       "Radiation Immunity                7\n",
       "Water Control                     6\n",
       "Energy Constructs                 6\n",
       "Precognition                      6\n",
       "Enhanced Sight                    6\n",
       "Resurrection                      6\n",
       "Magnetism                         6\n",
       "Omnilingualism                    5\n",
       "Radiation Absorption              5\n",
       "Audio Control                     5\n",
       "Element Control                   5\n",
       "Mind Control Resistance           5\n",
       "Duplication                       5\n",
       "Invisibility                      5\n",
       "Toxin and Disease Control         5\n",
       "Power Cosmic                      5\n",
       "Vision - X-Ray                    5\n",
       "Symbiote Costume                  5\n",
       "Gliding                           5\n",
       "Power Absorption                  5\n",
       "Power Augmentation                5\n",
       "Hypnokinesis                      5\n",
       "Reality Warping                   5\n",
       "Density Control                   4\n",
       "Probability Manipulation          4\n",
       "Portal Creation                   4\n",
       "Possession                        4\n",
       "Darkforce Manipulation            4\n",
       "Energy Armor                      4\n",
       "Sonic Scream                      4\n",
       "Magic Resistance                  4\n",
       "Time Manipulation                 4\n",
       "Astral Travel                     3\n",
       "Sub-Mariner                       3\n",
       "Elemental Transmogrification      3\n",
       "Energy Resistance                 3\n",
       "Power Sense                       3\n",
       "Enhanced Touch                    3\n",
       "Insanity                          3\n",
       "Elasticity                        3\n",
       "Cloaking                          3\n",
       "Dexterity                         3\n",
       "Summoning                         3\n",
       "Vision - Heat                     3\n",
       "Weather Control                   2\n",
       "Wind Control                      2\n",
       "Vitakinesis                       2\n",
       "Grim Reaping                      2\n",
       "Matter Absorption                 2\n",
       "Vision - Microscopic              2\n",
       "Radiation Control                 2\n",
       "Sonar                             2\n",
       "Molecular Combustion              2\n",
       "Omnipotent                        2\n",
       "Illumination                      2\n",
       "Seismic Power                     2\n",
       "Animation                         2\n",
       "Power Nullifier                   2\n",
       "Nova Force                        2\n",
       "Plant Control                     2\n",
       "Projection                        2\n",
       "Animal Control                    2\n",
       "Radar Sense                       1\n",
       "Photographic Reflexes             1\n",
       "Odin Force                        1\n",
       "Anti-Gravity                      1\n",
       "Terrakinesis                      1\n",
       "Electrical Transport              1\n",
       "Echolocation                      1\n",
       "Banish                            1\n",
       "Clairvoyance                      1\n",
       "Death Touch                       1\n",
       "Hair Manipulation                 1\n",
       "Biokinesis                        1\n",
       "Phoenix Force                     1\n",
       "dtype: int64"
      ]
     },
     "execution_count": 29,
     "metadata": {},
     "output_type": "execute_result"
    }
   ],
   "source": [
    "power_zero = number_power[-16:].keys()\n",
    "data = data.drop(columns=power_zero)\n",
    "booleans = booleans[:-16]\n",
    "number_power = data.iloc[:, booleans].sum().sort_values(ascending=False)\n",
    "number_power"
   ]
  },
  {
   "cell_type": "code",
   "execution_count": 30,
   "id": "ed686681",
   "metadata": {},
   "outputs": [
    {
     "name": "stdout",
     "output_type": "stream",
     "text": [
      "<class 'pandas.core.frame.DataFrame'>\n",
      "Int64Index: 298 entries, 0 to 381\n",
      "Columns: 168 entries, Name to Phoenix Force\n",
      "dtypes: bool(151), float64(9), object(8)\n",
      "memory usage: 85.8+ KB\n"
     ]
    }
   ],
   "source": [
    "data.info()"
   ]
  },
  {
   "cell_type": "markdown",
   "id": "3202acdb",
   "metadata": {},
   "source": [
    "Então temos agora um dataset com 298 linhas e 168 colunas.\n",
    "\n",
    "\n",
    "## Passo 4\n",
    "Plotar algumas informações."
   ]
  },
  {
   "cell_type": "code",
   "execution_count": 31,
   "id": "0018deb1",
   "metadata": {
    "scrolled": false
   },
   "outputs": [
    {
     "name": "stdout",
     "output_type": "stream",
     "text": [
      "Male      67.114094\n",
      "Female    28.523490\n",
      "-          4.362416\n",
      "Name: Gender, dtype: float64\n"
     ]
    },
    {
     "data": {
      "image/png": "[encoded data removed]",
      "text/plain": [
       "<Figure size 432x288 with 1 Axes>"
      ]
     },
     "metadata": {
      "needs_background": "light"
     },
     "output_type": "display_data"
    }
   ],
   "source": [
    "gender_relation = data['Gender'].value_counts()/data['Gender'].count() * 100;\n",
    "print(gender_relation)\n",
    "\n",
    "gender_relation.plot.bar(title='Proporção entre os gêneros');"
   ]
  },
  {
   "cell_type": "markdown",
   "id": "28f14ae0",
   "metadata": {},
   "source": [
    "Pode-se ver que aproximadamente 67% dos personagens são homens, 28% são mulheres e 4% não possuem gênero definido. \n",
    "\n",
    "Uma curiosidade pessoal que eu tenho, tem relação com a outra grande empresa de quadrinhos, a DC, que é uma relação entre personagens carecas e seus alinhamentos."
   ]
  },
  {
   "cell_type": "code",
   "execution_count": 32,
   "id": "d8f7fdc4",
   "metadata": {
    "scrolled": false
   },
   "outputs": [
    {
     "name": "stdout",
     "output_type": "stream",
     "text": [
      "<class 'pandas.core.frame.DataFrame'>\n",
      "Int64Index: 32 entries, 0 to 381\n",
      "Columns: 168 entries, Name to Phoenix Force\n",
      "dtypes: bool(151), float64(9), object(8)\n",
      "memory usage: 9.2+ KB\n",
      "None\n"
     ]
    },
    {
     "data": {
      "image/png": "[encoded data removed]",
      "text/plain": [
       "<Figure size 432x288 with 1 Axes>"
      ]
     },
     "metadata": {
      "needs_background": "light"
     },
     "output_type": "display_data"
    }
   ],
   "source": [
    "hair = data.loc[data['HairColor'] == 'No Hair']\n",
    "print(hair.info())\n",
    "hair_relation = hair['Alignment_x'].value_counts()/hair['Alignment_x'].count() * 100;\n",
    "hair_relation.plot.bar(title='Relação entre o alinhamento de personagens carecas');"
   ]
  },
  {
   "cell_type": "markdown",
   "id": "968f20a1",
   "metadata": {},
   "source": [
    "Dos 32 personagens carecas existentes, mais da metade possui tendências para o mal!\n",
    "\n",
    "Vamos agora analizar a corelação entre os valores numéricos dos poderes dos personagens. Temos as seguintes informações: Intelligence_x, Strength, Speed, Durability_x, Power, Combat."
   ]
  },
  {
   "cell_type": "code",
   "execution_count": 69,
   "id": "b5a30e76",
   "metadata": {
    "scrolled": true
   },
   "outputs": [
    {
     "data": {
      "image/png": "[encoded data removed]",
      "text/plain": [
       "<Figure size 432x288 with 2 Axes>"
      ]
     },
     "metadata": {
      "needs_background": "light"
     },
     "output_type": "display_data"
    }
   ],
   "source": [
    "numeric_values = np.arange(10, 16, 1)\n",
    "numeric_values_plot = data.iloc[:, numeric_values].corr()\n",
    "\n",
    "sns.heatmap(numeric_values_plot, annot=True, vmin=-1, vmax=1, center=0);"
   ]
  },
  {
   "cell_type": "markdown",
   "id": "228de9ad",
   "metadata": {},
   "source": [
    "Dá pra ver que todos os aspectos são bem relacionados, mas gostaria de chamar a atenção na relação entre Inteligência com Poder e Combate, vemos aí que existem personagens extremamente poderosos que possuem uma inteligência alta, como Doutor Estranho, Professor Xavier...<br/>\n",
    "Outras relações legais são entre Durabilidade com poder e força, que pensando bem, fazem bastante sentido.\n",
    "\n",
    "### Tem como definir qual o personagem mais forte?\n",
    "\n",
    "Existem várias abordagens para tentar achar uma resposta para isso, por exemplo, será se é certo afirmar que o personagem que possui mais poderes é o mais forte?"
   ]
  },
  {
   "cell_type": "code",
   "execution_count": 141,
   "id": "d68b8fd2",
   "metadata": {},
   "outputs": [
    {
     "data": {
      "image/png": "[encoded data removed]",
      "text/plain": [
       "<Figure size 432x288 with 1 Axes>"
      ]
     },
     "metadata": {
      "needs_background": "light"
     },
     "output_type": "display_data"
    }
   ],
   "source": [
    "p = data.iloc[:, booleans]\n",
    "data['Poderes'] = p.sum(1);\n",
    "most_power = data.nlargest(5, 'Poderes')\n",
    "\n",
    "sns.barplot(x=most_power[\"Name\"],y=most_power[\"Poderes\"]).set_title('Personagens com maior número de poderes');"
   ]
  },
  {
   "cell_type": "markdown",
   "id": "a4c9877c",
   "metadata": {},
   "source": [
    "De acordo com pesquisas no google, com listas de quem são os mais poderosos personagens:\n",
    "\n",
    "https://tecnoblog.net/meiobit/413587/os-15-personagens-mais-poderosos-da-marvel/\n",
    "https://falauniversidades.com.br/veja-quem-sao-os-5-herois-mais-fortes-do-universo-marvel/\n",
    "https://criticalhits.com.br/herois/os-10-personagens-mais-poderosos-do-universo-marvel/\n",
    "\n",
    "Nessa lista, encontramos alguns dos nomes que aparecem no gráfico, como Thanos, Galactus e Capitã Marvel. Enquanto Cable e Franklin Richards nunca foram citados, então esses 3 aparecendo aí é uma coincidência?"
   ]
  },
  {
   "cell_type": "code",
   "execution_count": 142,
   "id": "c00b158c",
   "metadata": {},
   "outputs": [
    {
     "data": {
      "image/png": "[encoded data removed]",
      "text/plain": [
       "<Figure size 1440x864 with 1 Axes>"
      ]
     },
     "metadata": {
      "needs_background": "light"
     },
     "output_type": "display_data"
    }
   ],
   "source": [
    "most_power = most_power[['Name', 'Intelligence_x', 'Strength', 'Speed', 'Durability_x', 'Power', 'Combat']]\n",
    "most_power = pd.pivot_table(most_power, index='Name')\n",
    "most_power.plot(kind=\"bar\", figsize=(20,12), fontsize=20);"
   ]
  },
  {
   "cell_type": "markdown",
   "id": "e4ecc9fb",
   "metadata": {},
   "source": [
    "Olha só que interessantem, a Capitã Marvel, Galactus e Thanos possuem níveis bem altos na maioria dessas habilidades, o Cable está na média, mas o Franklin Richards não possui quase nada! Então, o número de poderes está relacionado com o poder do personagem em si? Não necessariamente!\n",
    "\n",
    "Vamos então ver os personagens com maior nível de poder \"numérico\" por assim dizer. Existe uma coluna chamada 'Total', que é justamente a soma dessas habilidades."
   ]
  },
  {
   "cell_type": "code",
   "execution_count": 147,
   "id": "6da25edd",
   "metadata": {
    "scrolled": true
   },
   "outputs": [
    {
     "data": {
      "image/png": "[encoded data removed]",
      "text/plain": [
       "<Figure size 432x288 with 1 Axes>"
      ]
     },
     "metadata": {
      "needs_background": "light"
     },
     "output_type": "display_data"
    }
   ],
   "source": [
    "bigger_power = data.nlargest(5, 'Total')\n",
    "sns.barplot(x=bigger_power[\"Name\"],y=bigger_power[\"Total\"]).set_title('Personagens com maior soma de poder');"
   ]
  },
  {
   "cell_type": "markdown",
   "id": "6fd62aed",
   "metadata": {},
   "source": [
    "Aqui vemos dados bem diferentes! De novo o Galactus aparece, mas também temos nomes mais \"conhecidos\" por assim dizer, que são personagens extremamente poderosos, como Thor e Dormammu."
   ]
  },
  {
   "cell_type": "code",
   "execution_count": 148,
   "id": "ffaf6e3e",
   "metadata": {
    "scrolled": false
   },
   "outputs": [
    {
     "data": {
      "image/png": "[encoded data removed]",
      "text/plain": [
       "<Figure size 1440x864 with 1 Axes>"
      ]
     },
     "metadata": {
      "needs_background": "light"
     },
     "output_type": "display_data"
    }
   ],
   "source": [
    "bigger_power = bigger_power[['Name', 'Intelligence_x', 'Strength', 'Speed', 'Durability_x', 'Power', 'Combat']]\n",
    "bigger_power = pd.pivot_table(bigger_power, index='Name')\n",
    "bigger_power.plot(kind=\"bar\", figsize=(20,12), fontsize=20);"
   ]
  },
  {
   "cell_type": "markdown",
   "id": "babe70aa",
   "metadata": {},
   "source": [
    "Aqui nós vemos que a maioria dos personagens atinge o 100 (ou passa, como a Stardust) em quase todos os aspectos, totalmente diferente do outro gráfico visto mais cedo."
   ]
  }
 ],
 "metadata": {
  "kernelspec": {
   "display_name": "Python 3",
   "language": "python",
   "name": "python3"
  },
  "language_info": {
   "codemirror_mode": {
    "name": "ipython",
    "version": 3
   },
   "file_extension": ".py",
   "mimetype": "text/x-python",
   "name": "python",
   "nbconvert_exporter": "python",
   "pygments_lexer": "ipython3",
   "version": "3.8.8"
  }
 },
 "nbformat": 4,
 "nbformat_minor": 5
}
